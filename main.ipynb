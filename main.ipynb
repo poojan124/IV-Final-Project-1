{
 "cells": [
  {
   "cell_type": "code",
   "execution_count": 1,
   "metadata": {},
   "outputs": [],
   "source": [
    "import os\n",
    "import json\n",
    "import requests\n",
    "import pandas as pd\n",
    "import numpy as np\n",
    "import datetime"
   ]
  },
  {
   "cell_type": "markdown",
   "metadata": {},
   "source": [
    "* Base url for api call for each user."
   ]
  },
  {
   "cell_type": "code",
   "execution_count": 2,
   "metadata": {},
   "outputs": [],
   "source": [
    "# give information about user's submission history\n",
    "URL1 = \"https://codeforces.com/api/user.status?handle=\"\n",
    "# give informaiton about user's competition history\n",
    "URL2 = \"https://codeforces.com/api/user.rating?handle=\""
   ]
  },
  {
   "cell_type": "markdown",
   "metadata": {},
   "source": [
    "* Helper function to retrive data from server"
   ]
  },
  {
   "cell_type": "code",
   "execution_count": 3,
   "metadata": {},
   "outputs": [],
   "source": [
    "def getSubData(uname):\n",
    "    return json.loads(requests.get(URL1 + uname).content)['result']\n",
    "\n",
    "def getCompiData(uname):\n",
    "    return json.loads(requests.get(URL2 + uname).content)['result']"
   ]
  },
  {
   "cell_type": "code",
   "execution_count": 27,
   "metadata": {},
   "outputs": [],
   "source": [
    "user1 = 'poojanpatel101'\n",
    "subData1 = getSubData(user1)\n",
    "compiData1 = getCompiData(user1)"
   ]
  },
  {
   "cell_type": "code",
   "execution_count": 28,
   "metadata": {},
   "outputs": [
    {
     "name": "stdout",
     "output_type": "stream",
     "text": [
      "Total Number of sumbission for user avid_avi is 411\n"
     ]
    }
   ],
   "source": [
    "print(\"Total Number of sumbission for user %s is %d\" % (user,len(subData)))"
   ]
  },
  {
   "cell_type": "code",
   "execution_count": 29,
   "metadata": {},
   "outputs": [
    {
     "name": "stdout",
     "output_type": "stream",
     "text": [
      "Total Number of compitition participated for user avid_avi is 28\n"
     ]
    }
   ],
   "source": [
    "print(\"Total Number of compitition participated for user %s is %d\" % (user,len(compiData)))"
   ]
  },
  {
   "cell_type": "markdown",
   "metadata": {},
   "source": [
    "# Plot 1:\n",
    "* This plot shows comparison between two users compititon rating.\n",
    "* It will allow user to track and compare their progress with other user from time to time.\n",
    "* Each user starts with 1500 rating.\n",
    "* This will allow one team member compare their rating and improve accordinly."
   ]
  },
  {
   "cell_type": "code",
   "execution_count": 31,
   "metadata": {},
   "outputs": [],
   "source": [
    "import plotly.plotly as py\n",
    "import plotly.graph_objs as go"
   ]
  },
  {
   "cell_type": "code",
   "execution_count": 114,
   "metadata": {},
   "outputs": [],
   "source": [
    "def find_rating(date, data):\n",
    "    for d in data:\n",
    "        if date == datetime.datetime.fromtimestamp(float(d['ratingUpdateTimeSeconds'])):\n",
    "            return d['newRating']\n",
    "\n",
    "def plot_two_rating(username1,username2):\n",
    "    compiData1 = getCompiData(username1)\n",
    "    compiData2 = getCompiData(username2)\n",
    "    \n",
    "    date_user1 = sorted(list(set([datetime.datetime.fromtimestamp(float(i['ratingUpdateTimeSeconds'])) for i in compiData1])))\n",
    "    date_user2 = sorted(list(set([datetime.datetime.fromtimestamp(float(i['ratingUpdateTimeSeconds'])) for i in compiData2])))\n",
    "\n",
    "    total_dates = sorted(list(set(date_user1 + date_user2)))\n",
    "    \n",
    "    data1 = []\n",
    "    data2 = []\n",
    "    for date_ in total_dates:\n",
    "        if date_ in date_user1:\n",
    "            data1.append((date_, find_rating(date_,compiData1)))\n",
    "        else:\n",
    "            if len(data1)>0:\n",
    "                data1.append((date_,data1[-1][1]))\n",
    "            else:\n",
    "                data1.append((date_,1500))\n",
    "\n",
    "        if date_ in date_user2:\n",
    "            data2.append((date_, find_rating(date_,compiData2)))\n",
    "        else:\n",
    "            if len(data2)>0:\n",
    "                data2.append((date_,data2[-1][1]))\n",
    "            else:\n",
    "                data2.append((date_,1500))\n",
    "\n",
    "    pldata1 = go.Scatter(x=[x[0] for x in data1], y=[x[1] for x in data1])\n",
    "    pldata2 = go.Scatter(x=[x[0] for x in data2], y=[x[1] for x in data2])\n",
    "    \n",
    "    fig = dict(data=[pldata1,pldata2])\n",
    "    return py.iplot(fig, filename = \"Manually Set Range\")"
   ]
  },
  {
   "cell_type": "code",
   "execution_count": 117,
   "metadata": {},
   "outputs": [
    {
     "data": {
      "text/html": [
       "<iframe id=\"igraph\" scrolling=\"no\" style=\"border:none;\" seamless=\"seamless\" src=\"https://plot.ly/~poojan124/4.embed\" height=\"525px\" width=\"100%\"></iframe>"
      ],
      "text/plain": [
       "<plotly.tools.PlotlyDisplay object>"
      ]
     },
     "execution_count": 117,
     "metadata": {},
     "output_type": "execute_result"
    }
   ],
   "source": [
    "plot_two_rating('tourist','petr')"
   ]
  }
 ],
 "metadata": {
  "kernelspec": {
   "display_name": "Python 3",
   "language": "python",
   "name": "python3"
  },
  "language_info": {
   "codemirror_mode": {
    "name": "ipython",
    "version": 3
   },
   "file_extension": ".py",
   "mimetype": "text/x-python",
   "name": "python",
   "nbconvert_exporter": "python",
   "pygments_lexer": "ipython3",
   "version": "3.6.7"
  }
 },
 "nbformat": 4,
 "nbformat_minor": 2
}
