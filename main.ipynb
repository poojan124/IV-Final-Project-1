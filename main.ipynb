{
 "cells": [
  {
   "cell_type": "code",
   "execution_count": 2,
   "metadata": {},
   "outputs": [],
   "source": [
    "import os\n",
    "import json\n",
    "import requests\n",
    "import pandas as pd\n",
    "import numpy as np\n",
    "import datetime"
   ]
  },
  {
   "cell_type": "markdown",
   "metadata": {},
   "source": [
    "* Base url for api call for each user."
   ]
  },
  {
   "cell_type": "code",
   "execution_count": 3,
   "metadata": {},
   "outputs": [],
   "source": [
    "# give information about user's submission history\n",
    "URL1 = \"https://codeforces.com/api/user.status?handle=\"\n",
    "# give informaiton about user's competition history\n",
    "URL2 = \"https://codeforces.com/api/user.rating?handle=\""
   ]
  },
  {
   "cell_type": "markdown",
   "metadata": {},
   "source": [
    "* Helper function to retrive data from server"
   ]
  },
  {
   "cell_type": "code",
   "execution_count": 4,
   "metadata": {},
   "outputs": [],
   "source": [
    "def getSubData(uname):\n",
    "    return json.loads(requests.get(URL1 + uname).content)['result']\n",
    "\n",
    "def getCompiData(uname):\n",
    "    return json.loads(requests.get(URL2 + uname).content)['result']"
   ]
  },
  {
   "cell_type": "code",
   "execution_count": 6,
   "metadata": {},
   "outputs": [],
   "source": [
    "user = 'poojanpatel101'\n",
    "subData = getSubData(user)\n",
    "compiData = getCompiData(user)"
   ]
  },
  {
   "cell_type": "code",
   "execution_count": 7,
   "metadata": {},
   "outputs": [
    {
     "name": "stdout",
     "output_type": "stream",
     "text": [
      "Total Number of sumbission for user poojanpatel101 is 411\n"
     ]
    }
   ],
   "source": [
    "print(\"Total Number of sumbission for user %s is %d\" % (user,len(subData)))"
   ]
  },
  {
   "cell_type": "code",
   "execution_count": 8,
   "metadata": {},
   "outputs": [
    {
     "name": "stdout",
     "output_type": "stream",
     "text": [
      "Total Number of compitition participated for user poojanpatel101 is 28\n"
     ]
    }
   ],
   "source": [
    "print(\"Total Number of compitition participated for user %s is %d\" % (user,len(compiData)))"
   ]
  },
  {
   "cell_type": "markdown",
   "metadata": {},
   "source": [
    "# Data Mapping and Transformation"
   ]
  },
  {
   "cell_type": "code",
   "execution_count": 37,
   "metadata": {},
   "outputs": [
    {
     "data": {
      "text/plain": [
       "dict_keys(['id', 'contestId', 'creationTimeSeconds', 'relativeTimeSeconds', 'problem', 'author', 'programmingLanguage', 'verdict', 'testset', 'passedTestCount', 'timeConsumedMillis', 'memoryConsumedBytes'])"
      ]
     },
     "execution_count": 37,
     "metadata": {},
     "output_type": "execute_result"
    }
   ],
   "source": [
    "subData[0].keys()"
   ]
  },
  {
   "cell_type": "code",
   "execution_count": 42,
   "metadata": {},
   "outputs": [],
   "source": [
    "contest_submissions = [d for d in subData if d['author']['participantType']=='CONTESTANT']"
   ]
  },
  {
   "cell_type": "code",
   "execution_count": 49,
   "metadata": {},
   "outputs": [],
   "source": [
    "verd = {}\n",
    "for c in contest_submissions:\n",
    "    if c['verdict'] not in verd:\n",
    "        verd[c['verdict']] = 1\n",
    "    else:\n",
    "        verd[c['verdict']] += 1 "
   ]
  },
  {
   "cell_type": "code",
   "execution_count": 54,
   "metadata": {},
   "outputs": [
    {
     "data": {
      "text/plain": [
       "{'OK': 63,\n",
       " 'TIME_LIMIT_EXCEEDED': 4,\n",
       " 'WRONG_ANSWER': 80,\n",
       " 'CHALLENGED': 2,\n",
       " 'RUNTIME_ERROR': 2}"
      ]
     },
     "execution_count": 54,
     "metadata": {},
     "output_type": "execute_result"
    }
   ],
   "source": [
    "verd"
   ]
  },
  {
   "cell_type": "code",
   "execution_count": 59,
   "metadata": {},
   "outputs": [
    {
     "data": {
      "text/plain": [
       "<matplotlib.axes._subplots.AxesSubplot at 0xb5a5198>"
      ]
     },
     "execution_count": 59,
     "metadata": {},
     "output_type": "execute_result"
    },
    {
     "data": {
      "image/png": "[encoded data removed]",
      "text/plain": [
       "<Figure size 432x288 with 1 Axes>"
      ]
     },
     "metadata": {
      "needs_background": "light"
     },
     "output_type": "display_data"
    }
   ],
   "source": [
    "pd.Series(verd).plot(kind='bar')"
   ]
  },
  {
   "cell_type": "code",
   "execution_count": 19,
   "metadata": {},
   "outputs": [
    {
     "data": {
      "text/plain": [
       "{'contestId': 689,\n",
       " 'contestName': 'Codeforces Round #361 (Div. 2)',\n",
       " 'handle': 'poojanpatel101',\n",
       " 'rank': 1600,\n",
       " 'ratingUpdateTimeSeconds': 1467830100,\n",
       " 'oldRating': 1500,\n",
       " 'newRating': 1399}"
      ]
     },
     "execution_count": 19,
     "metadata": {},
     "output_type": "execute_result"
    }
   ],
   "source": [
    "compiData[0]"
   ]
  },
  {
   "cell_type": "markdown",
   "metadata": {},
   "source": [
    "# Plot 1:\n",
    "* This plot shows comparison between two users compititon rating.\n",
    "* It will allow user to track and compare their progress with other user from time to time.\n",
    "* Each user starts with 1500 rating.\n",
    "* This will allow one team member compare their rating and improve accordinly."
   ]
  },
  {
   "cell_type": "code",
   "execution_count": 13,
   "metadata": {},
   "outputs": [],
   "source": [
    "import plotly.graph_objs as go\n",
    "import plotly.plotly as py\n",
    "import plotly\n",
    "plotly.tools.set_credentials_file(username='poojan124', api_key='d2TmZOWV0SEY0R5BSUKE')"
   ]
  },
  {
   "cell_type": "code",
   "execution_count": 32,
   "metadata": {},
   "outputs": [],
   "source": [
    "def find_rating(date, data):\n",
    "    for d in data:\n",
    "        if date == datetime.datetime.fromtimestamp(float(d['ratingUpdateTimeSeconds'])):\n",
    "            return d['newRating']\n",
    "\n",
    "def plot_two_rating(username1,username2):\n",
    "    compiData1 = getCompiData(username1)\n",
    "    compiData2 = getCompiData(username2)\n",
    "    \n",
    "    date_user1 = sorted(list(set([datetime.datetime.fromtimestamp(float(i['ratingUpdateTimeSeconds'])) for i in compiData1])))\n",
    "    date_user2 = sorted(list(set([datetime.datetime.fromtimestamp(float(i['ratingUpdateTimeSeconds'])) for i in compiData2])))\n",
    "\n",
    "    total_dates = sorted(list(set(date_user1 + date_user2)))\n",
    "    \n",
    "    data1 = []\n",
    "    data2 = []\n",
    "    for date_ in total_dates:\n",
    "        if date_ in date_user1:\n",
    "            data1.append((date_, find_rating(date_,compiData1)))\n",
    "        else:\n",
    "            if len(data1)>0:\n",
    "                data1.append((date_,data1[-1][1]))\n",
    "            else:\n",
    "                data1.append((date_,1500))\n",
    "\n",
    "        if date_ in date_user2:\n",
    "            data2.append((date_, find_rating(date_,compiData2)))\n",
    "        else:\n",
    "            if len(data2)>0:\n",
    "                data2.append((date_,data2[-1][1]))\n",
    "            else:\n",
    "                data2.append((date_,1500))\n",
    "\n",
    "    pldata1 = go.Scatter(\n",
    "        x=[x[0] for x in data1], \n",
    "        y=[x[1] for x in data1], \n",
    "#         text = [compiData[0] for i in range(len(data2))],\n",
    "#         hoverinfo ='text',\n",
    "        name=username1\n",
    "    )\n",
    "    pldata2 = go.Scatter(\n",
    "        x=[x[0] for x in data2], \n",
    "        y=[x[1] for x in data2], \n",
    "#         text = [compiData[0] for i in range(len(data2))],\n",
    "#         hoverinfo ='text',\n",
    "        name=username2\n",
    "    )\n",
    "    layout = dict(\n",
    "        title='Contest rating comparision between ' + username1 + \" and \" + username2,\n",
    "        xaxis=dict(\n",
    "            rangeselector=dict(\n",
    "                buttons=list([\n",
    "                    dict(count=1,\n",
    "                         label='1m',\n",
    "                         step='month',\n",
    "                         stepmode='backward'),\n",
    "                    dict(count=6,\n",
    "                         label='6m',\n",
    "                         step='month',\n",
    "                         stepmode='backward'),\n",
    "                    dict(count=1,\n",
    "                        label='YTD',\n",
    "                        step='year',\n",
    "                        stepmode='todate'),\n",
    "                    dict(count=1,\n",
    "                        label='1y',\n",
    "                        step='year',\n",
    "                        stepmode='backward'),\n",
    "                    dict(step='all')\n",
    "                ])\n",
    "            ),\n",
    "            rangeslider=dict(\n",
    "                visible = True\n",
    "            ),\n",
    "            type='date'\n",
    "        )\n",
    "    )\n",
    "    fig = dict(data=[pldata1,pldata2], layout=layout)\n",
    "    return py.iplot(fig, filename = \"Manually Set Range\")"
   ]
  },
  {
   "cell_type": "code",
   "execution_count": 33,
   "metadata": {},
   "outputs": [
    {
     "data": {
      "text/html": [
       "<iframe id=\"igraph\" scrolling=\"no\" style=\"border:none;\" seamless=\"seamless\" src=\"https://plot.ly/~poojan124/4.embed\" height=\"525px\" width=\"100%\"></iframe>"
      ],
      "text/plain": [
       "<plotly.tools.PlotlyDisplay object>"
      ]
     },
     "execution_count": 33,
     "metadata": {},
     "output_type": "execute_result"
    }
   ],
   "source": [
    "plot_two_rating('tourist','petr')"
   ]
  }
 ],
 "metadata": {
  "kernelspec": {
   "display_name": "Python 3",
   "language": "python",
   "name": "python3"
  },
  "language_info": {
   "codemirror_mode": {
    "name": "ipython",
    "version": 3
   },
   "file_extension": ".py",
   "mimetype": "text/x-python",
   "name": "python",
   "nbconvert_exporter": "python",
   "pygments_lexer": "ipython3",
   "version": "3.7.1"
  }
 },
 "nbformat": 4,
 "nbformat_minor": 2
}
